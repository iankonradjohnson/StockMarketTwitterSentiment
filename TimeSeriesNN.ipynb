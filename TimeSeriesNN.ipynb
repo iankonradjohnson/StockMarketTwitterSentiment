{
 "cells": [
  {
   "cell_type": "code",
   "execution_count": 1846,
   "metadata": {},
   "outputs": [],
   "source": [
    "%matplotlib inline\n",
    "import pandas as pd\n",
    "from datetime import datetime\n",
    "from matplotlib import pyplot\n",
    "import tensorflow as tf\n",
    "from tensorflow import keras\n",
    "from tensorflow.keras.layers import LSTM, Dense, Dropout\n",
    "from math import sqrt\n",
    "from sklearn.metrics import mean_squared_error\n",
    "from sklearn.metrics import r2_score\n",
    "import numpy as np\n",
    "from sklearn.preprocessing import LabelEncoder\n",
    "from sklearn.preprocessing import MinMaxScaler\n"
   ]
  },
  {
   "cell_type": "code",
   "execution_count": 1847,
   "metadata": {},
   "outputs": [],
   "source": [
    "def date_parser(x):\n",
    "    return datetime.strptime(x, '%Y-%m-%d')"
   ]
  },
  {
   "cell_type": "code",
   "execution_count": 3097,
   "metadata": {},
   "outputs": [
    {
     "data": {
      "text/html": [
       "<div>\n",
       "<style scoped>\n",
       "    .dataframe tbody tr th:only-of-type {\n",
       "        vertical-align: middle;\n",
       "    }\n",
       "\n",
       "    .dataframe tbody tr th {\n",
       "        vertical-align: top;\n",
       "    }\n",
       "\n",
       "    .dataframe thead th {\n",
       "        text-align: right;\n",
       "    }\n",
       "</style>\n",
       "<table border=\"1\" class=\"dataframe\">\n",
       "  <thead>\n",
       "    <tr style=\"text-align: right;\">\n",
       "      <th></th>\n",
       "      <th>Tension</th>\n",
       "      <th>Depression</th>\n",
       "      <th>Anger</th>\n",
       "      <th>Fatigue</th>\n",
       "      <th>Confusion</th>\n",
       "      <th>Vigour</th>\n",
       "      <th>Open</th>\n",
       "      <th>High</th>\n",
       "      <th>Low</th>\n",
       "      <th>Close</th>\n",
       "      <th>Adj Close</th>\n",
       "      <th>Volume</th>\n",
       "    </tr>\n",
       "    <tr>\n",
       "      <th>Date</th>\n",
       "      <th></th>\n",
       "      <th></th>\n",
       "      <th></th>\n",
       "      <th></th>\n",
       "      <th></th>\n",
       "      <th></th>\n",
       "      <th></th>\n",
       "      <th></th>\n",
       "      <th></th>\n",
       "      <th></th>\n",
       "      <th></th>\n",
       "      <th></th>\n",
       "    </tr>\n",
       "  </thead>\n",
       "  <tbody>\n",
       "    <tr>\n",
       "      <th>2018-12-31</th>\n",
       "      <td>0.199039</td>\n",
       "      <td>0.519098</td>\n",
       "      <td>0.516361</td>\n",
       "      <td>0.559851</td>\n",
       "      <td>0.312904</td>\n",
       "      <td>0.463503</td>\n",
       "      <td>0.042584</td>\n",
       "      <td>0.026881</td>\n",
       "      <td>0.077328</td>\n",
       "      <td>0.102260</td>\n",
       "      <td>0.102260</td>\n",
       "      <td>0.096301</td>\n",
       "    </tr>\n",
       "    <tr>\n",
       "      <th>2019-01-02</th>\n",
       "      <td>0.208180</td>\n",
       "      <td>0.441180</td>\n",
       "      <td>0.539493</td>\n",
       "      <td>0.288889</td>\n",
       "      <td>0.713221</td>\n",
       "      <td>0.252131</td>\n",
       "      <td>0.026911</td>\n",
       "      <td>0.040647</td>\n",
       "      <td>0.046759</td>\n",
       "      <td>0.105255</td>\n",
       "      <td>0.105255</td>\n",
       "      <td>0.111857</td>\n",
       "    </tr>\n",
       "    <tr>\n",
       "      <th>2019-01-03</th>\n",
       "      <td>0.345099</td>\n",
       "      <td>0.489385</td>\n",
       "      <td>0.439936</td>\n",
       "      <td>0.508735</td>\n",
       "      <td>0.490458</td>\n",
       "      <td>0.267814</td>\n",
       "      <td>0.046275</td>\n",
       "      <td>0.000000</td>\n",
       "      <td>0.000000</td>\n",
       "      <td>0.000000</td>\n",
       "      <td>0.000000</td>\n",
       "      <td>0.160639</td>\n",
       "    </tr>\n",
       "    <tr>\n",
       "      <th>2019-01-04</th>\n",
       "      <td>0.252721</td>\n",
       "      <td>0.603827</td>\n",
       "      <td>0.163539</td>\n",
       "      <td>0.526752</td>\n",
       "      <td>0.456524</td>\n",
       "      <td>0.480547</td>\n",
       "      <td>0.000000</td>\n",
       "      <td>0.058678</td>\n",
       "      <td>0.041333</td>\n",
       "      <td>0.119116</td>\n",
       "      <td>0.119116</td>\n",
       "      <td>0.147230</td>\n",
       "    </tr>\n",
       "    <tr>\n",
       "      <th>2019-01-07</th>\n",
       "      <td>0.365727</td>\n",
       "      <td>0.490065</td>\n",
       "      <td>0.518240</td>\n",
       "      <td>0.406486</td>\n",
       "      <td>0.480487</td>\n",
       "      <td>0.367560</td>\n",
       "      <td>0.095245</td>\n",
       "      <td>0.087670</td>\n",
       "      <td>0.106863</td>\n",
       "      <td>0.134775</td>\n",
       "      <td>0.134775</td>\n",
       "      <td>0.117858</td>\n",
       "    </tr>\n",
       "  </tbody>\n",
       "</table>\n",
       "</div>"
      ],
      "text/plain": [
       "             Tension  Depression     Anger   Fatigue  Confusion    Vigour  \\\n",
       "Date                                                                        \n",
       "2018-12-31  0.199039    0.519098  0.516361  0.559851   0.312904  0.463503   \n",
       "2019-01-02  0.208180    0.441180  0.539493  0.288889   0.713221  0.252131   \n",
       "2019-01-03  0.345099    0.489385  0.439936  0.508735   0.490458  0.267814   \n",
       "2019-01-04  0.252721    0.603827  0.163539  0.526752   0.456524  0.480547   \n",
       "2019-01-07  0.365727    0.490065  0.518240  0.406486   0.480487  0.367560   \n",
       "\n",
       "                Open      High       Low     Close  Adj Close    Volume  \n",
       "Date                                                                     \n",
       "2018-12-31  0.042584  0.026881  0.077328  0.102260   0.102260  0.096301  \n",
       "2019-01-02  0.026911  0.040647  0.046759  0.105255   0.105255  0.111857  \n",
       "2019-01-03  0.046275  0.000000  0.000000  0.000000   0.000000  0.160639  \n",
       "2019-01-04  0.000000  0.058678  0.041333  0.119116   0.119116  0.147230  \n",
       "2019-01-07  0.095245  0.087670  0.106863  0.134775   0.134775  0.117858  "
      ]
     },
     "execution_count": 3097,
     "metadata": {},
     "output_type": "execute_result"
    }
   ],
   "source": [
    "data = pd.read_csv('../Data/EmotionMetrics/poms_scratch_2019-2020v2.csv', index_col=0,warn_bad_lines=True,error_bad_lines=False, parse_dates=['Date'], date_parser=date_parser)\n",
    "# data = data.set_index('Date')\n",
    "data = data.dropna()\n",
    "data.head(5)"
   ]
  },
  {
   "cell_type": "code",
   "execution_count": 3504,
   "metadata": {},
   "outputs": [],
   "source": [
    "# COLUMNS = ['Tension','Depression','Close']\n",
    "# COLUMNS = ['Tension','Close']\n",
    "# COLUMNS = ['Tension','Depression','Anger', 'Fatigue', 'Confusion', 'Vigour', 'Close']\n",
    "COLUMNS = ['Close']\n",
    "\n",
    "NUM_LAGS = 4\n",
    "INPUT_DAYS = 1"
   ]
  },
  {
   "cell_type": "code",
   "execution_count": 3505,
   "metadata": {},
   "outputs": [],
   "source": [
    "df = data[COLUMNS]"
   ]
  },
  {
   "cell_type": "code",
   "execution_count": 3506,
   "metadata": {},
   "outputs": [
    {
     "data": {
      "image/png": "[encoded data removed]",
      "text/plain": [
       "<Figure size 432x288 with 1 Axes>"
      ]
     },
     "metadata": {
      "needs_background": "light"
     },
     "output_type": "display_data"
    }
   ],
   "source": [
    "# load dataset\n",
    "values = df.values\n",
    "# specify columns to plot\n",
    "groups = range(len(df.columns))\n",
    "i = 1\n",
    "# plot each column\n",
    "pyplot.figure()\n",
    "for group in groups:\n",
    "    pyplot.subplot(len(groups), 1, i)\n",
    "    pyplot.plot(values[:, group])\n",
    "#     pyplot.figure(figsize=(5,10))\n",
    "    pyplot.title(df.columns[group], y=0.5, loc='right')\n",
    "    i += 1\n",
    "pyplot.show()"
   ]
  },
  {
   "cell_type": "code",
   "execution_count": 3507,
   "metadata": {},
   "outputs": [],
   "source": [
    "def series_to_supervised(raw_df, label_col, input_days=2, lag_days=3):\n",
    "    values = raw_df.values    \n",
    "    encoder = LabelEncoder()\n",
    "    values[:,-1] = encoder.fit_transform(values[:,-1])\n",
    "    values = values.astype('float32')\n",
    "    scaler = MinMaxScaler(feature_range=(0, 1))\n",
    "    scaled = scaler.fit_transform(values)\n",
    "    \n",
    "    column_names = raw_df.columns\n",
    "\n",
    "    scaled_df = pd.DataFrame(scaled, columns=column_names)\n",
    "    cols, names = [],[]\n",
    "    for i in range(input_days-1, -1, -1):\n",
    "        cols.append(scaled_df.shift(i))\n",
    "        if(i == 0):\n",
    "            names += [(f'{col_name}(t)') for col_name in column_names]\n",
    "        else:\n",
    "            names += [(f'{col_name}(t-{i})') for col_name in column_names]    \n",
    "\n",
    "            \n",
    "    cols.append(scaled_df[label_col].shift(-lag_days))\n",
    "    names.append(f'{label_col}(t+{lag_days})')\n",
    "    agg = pd.concat(cols, axis=1)\n",
    "    agg.columns = names\n",
    "    agg.dropna(inplace=True)\n",
    "    return agg\n",
    "        "
   ]
  },
  {
   "cell_type": "code",
   "execution_count": 3508,
   "metadata": {},
   "outputs": [],
   "source": [
    "reframed = series_to_supervised(df, 'Close', input_days=INPUT_DAYS, lag_days=NUM_LAGS)\n",
    "reframed = reframed[NUM_LAGS:]"
   ]
  },
  {
   "cell_type": "code",
   "execution_count": 3509,
   "metadata": {},
   "outputs": [],
   "source": [
    "def train_test_split(df, train_ratio=0.4):\n",
    "#     msk = np.random.rand(len(df)) < train_ratio\n",
    "    train = df[:int(train_ratio * len(df))]\n",
    "    test = df[int(train_ratio * len(df)):]\n",
    "    train_X = train[train.columns[:-1]].to_numpy()\n",
    "    train_y = train[train.columns[-1]].to_numpy()\n",
    "\n",
    "    test_X = test[test.columns[:-1]].to_numpy()\n",
    "    test_y = test[test.columns[-1]].to_numpy()\n",
    "\n",
    "    # display(train_X, train_y, test_X, test_y)\n",
    "\n",
    "    train_X = train_X.reshape((train_X.shape[0], 1, train_X.shape[1]))\n",
    "    test_X = test_X.reshape((test_X.shape[0], 1, test_X.shape[1]))\n",
    "    # print(train_X.shape, test_X.shape)\n",
    "    return train_X, train_y, test_X, test_y"
   ]
  },
  {
   "cell_type": "code",
   "execution_count": 3510,
   "metadata": {},
   "outputs": [
    {
     "name": "stdout",
     "output_type": "stream",
     "text": [
      "(151, 1, 1) (151,) (101, 1, 1) (101,)\n"
     ]
    }
   ],
   "source": [
    "train_X, train_y, test_X, test_y = train_test_split(reframed, train_ratio=.6)\n",
    "print(train_X.shape, train_y.shape, test_X.shape, test_y.shape)"
   ]
  },
  {
   "cell_type": "code",
   "execution_count": 3511,
   "metadata": {},
   "outputs": [
    {
     "name": "stdout",
     "output_type": "stream",
     "text": [
      "Epoch 1/100\n",
      "7/7 [==============================] - 3s 127ms/step - loss: 0.2589 - val_loss: 0.6652\n",
      "Epoch 2/100\n",
      "7/7 [==============================] - 0s 12ms/step - loss: 0.2239 - val_loss: 0.6167\n",
      "Epoch 3/100\n",
      "7/7 [==============================] - 0s 12ms/step - loss: 0.1938 - val_loss: 0.5679\n",
      "Epoch 4/100\n",
      "7/7 [==============================] - 0s 11ms/step - loss: 0.1657 - val_loss: 0.5187\n",
      "Epoch 5/100\n",
      "7/7 [==============================] - 0s 11ms/step - loss: 0.1477 - val_loss: 0.4699\n",
      "Epoch 6/100\n",
      "7/7 [==============================] - 0s 11ms/step - loss: 0.1392 - val_loss: 0.4229\n",
      "Epoch 7/100\n",
      "7/7 [==============================] - 0s 12ms/step - loss: 0.1326 - val_loss: 0.3793\n",
      "Epoch 8/100\n",
      "7/7 [==============================] - 0s 11ms/step - loss: 0.1294 - val_loss: 0.3376\n",
      "Epoch 9/100\n",
      "7/7 [==============================] - 0s 11ms/step - loss: 0.1263 - val_loss: 0.2998\n",
      "Epoch 10/100\n",
      "7/7 [==============================] - 0s 16ms/step - loss: 0.1338 - val_loss: 0.2703\n",
      "Epoch 11/100\n",
      "7/7 [==============================] - 0s 13ms/step - loss: 0.1396 - val_loss: 0.2584\n",
      "Epoch 12/100\n",
      "7/7 [==============================] - 0s 11ms/step - loss: 0.1400 - val_loss: 0.2586\n",
      "Epoch 13/100\n",
      "7/7 [==============================] - 0s 13ms/step - loss: 0.1323 - val_loss: 0.2603\n",
      "Epoch 14/100\n",
      "7/7 [==============================] - 0s 12ms/step - loss: 0.1282 - val_loss: 0.2607\n",
      "Epoch 15/100\n",
      "7/7 [==============================] - 0s 11ms/step - loss: 0.1343 - val_loss: 0.2609\n",
      "Epoch 16/100\n",
      "7/7 [==============================] - 0s 11ms/step - loss: 0.1255 - val_loss: 0.2610\n",
      "Epoch 17/100\n",
      "7/7 [==============================] - 0s 11ms/step - loss: 0.1210 - val_loss: 0.2608\n",
      "Epoch 18/100\n",
      "7/7 [==============================] - 0s 11ms/step - loss: 0.1226 - val_loss: 0.2593\n",
      "Epoch 19/100\n",
      "7/7 [==============================] - 0s 12ms/step - loss: 0.1224 - val_loss: 0.2567\n",
      "Epoch 20/100\n",
      "7/7 [==============================] - 0s 10ms/step - loss: 0.1213 - val_loss: 0.2523\n",
      "Epoch 21/100\n",
      "7/7 [==============================] - 0s 11ms/step - loss: 0.1178 - val_loss: 0.2466\n",
      "Epoch 22/100\n",
      "7/7 [==============================] - 0s 10ms/step - loss: 0.1195 - val_loss: 0.2424\n",
      "Epoch 23/100\n",
      "7/7 [==============================] - 0s 10ms/step - loss: 0.1159 - val_loss: 0.2368\n",
      "Epoch 24/100\n",
      "7/7 [==============================] - 0s 11ms/step - loss: 0.1120 - val_loss: 0.2236\n",
      "Epoch 25/100\n",
      "7/7 [==============================] - 0s 13ms/step - loss: 0.1168 - val_loss: 0.2170\n",
      "Epoch 26/100\n",
      "7/7 [==============================] - 0s 12ms/step - loss: 0.1117 - val_loss: 0.2142\n",
      "Epoch 27/100\n",
      "7/7 [==============================] - 0s 11ms/step - loss: 0.1104 - val_loss: 0.2116\n",
      "Epoch 28/100\n",
      "7/7 [==============================] - 0s 10ms/step - loss: 0.1064 - val_loss: 0.2075\n",
      "Epoch 29/100\n",
      "7/7 [==============================] - 0s 11ms/step - loss: 0.1132 - val_loss: 0.1971\n",
      "Epoch 30/100\n",
      "7/7 [==============================] - 0s 11ms/step - loss: 0.1057 - val_loss: 0.1897\n",
      "Epoch 31/100\n",
      "7/7 [==============================] - 0s 13ms/step - loss: 0.1078 - val_loss: 0.1864\n",
      "Epoch 32/100\n",
      "7/7 [==============================] - 0s 12ms/step - loss: 0.1006 - val_loss: 0.1847\n",
      "Epoch 33/100\n",
      "7/7 [==============================] - 0s 13ms/step - loss: 0.1019 - val_loss: 0.1826\n",
      "Epoch 34/100\n",
      "7/7 [==============================] - 0s 12ms/step - loss: 0.0985 - val_loss: 0.1810\n",
      "Epoch 35/100\n",
      "7/7 [==============================] - 0s 10ms/step - loss: 0.1071 - val_loss: 0.1784\n",
      "Epoch 36/100\n",
      "7/7 [==============================] - 0s 10ms/step - loss: 0.1002 - val_loss: 0.1756\n",
      "Epoch 37/100\n",
      "7/7 [==============================] - 0s 11ms/step - loss: 0.0966 - val_loss: 0.1733\n",
      "Epoch 38/100\n",
      "7/7 [==============================] - 0s 11ms/step - loss: 0.0980 - val_loss: 0.1709\n",
      "Epoch 39/100\n",
      "7/7 [==============================] - 0s 12ms/step - loss: 0.0913 - val_loss: 0.1665\n",
      "Epoch 40/100\n",
      "7/7 [==============================] - 0s 11ms/step - loss: 0.0904 - val_loss: 0.1627\n",
      "Epoch 41/100\n",
      "7/7 [==============================] - 0s 14ms/step - loss: 0.0870 - val_loss: 0.1621\n",
      "Epoch 42/100\n",
      "7/7 [==============================] - 0s 10ms/step - loss: 0.0866 - val_loss: 0.1586\n",
      "Epoch 43/100\n",
      "7/7 [==============================] - 0s 10ms/step - loss: 0.0860 - val_loss: 0.1447\n",
      "Epoch 44/100\n",
      "7/7 [==============================] - 0s 10ms/step - loss: 0.0886 - val_loss: 0.1389\n",
      "Epoch 45/100\n",
      "7/7 [==============================] - 0s 13ms/step - loss: 0.0871 - val_loss: 0.1369\n",
      "Epoch 46/100\n",
      "7/7 [==============================] - 0s 11ms/step - loss: 0.0929 - val_loss: 0.1354\n",
      "Epoch 47/100\n",
      "7/7 [==============================] - 0s 11ms/step - loss: 0.0817 - val_loss: 0.1372\n",
      "Epoch 48/100\n",
      "7/7 [==============================] - 0s 11ms/step - loss: 0.0806 - val_loss: 0.1389\n",
      "Epoch 49/100\n",
      "7/7 [==============================] - 0s 11ms/step - loss: 0.0855 - val_loss: 0.1280\n",
      "Epoch 50/100\n",
      "7/7 [==============================] - 0s 10ms/step - loss: 0.0839 - val_loss: 0.1180\n",
      "Epoch 51/100\n",
      "7/7 [==============================] - 0s 11ms/step - loss: 0.0773 - val_loss: 0.1066\n",
      "Epoch 52/100\n",
      "7/7 [==============================] - 0s 10ms/step - loss: 0.0832 - val_loss: 0.1090\n",
      "Epoch 53/100\n",
      "7/7 [==============================] - 0s 12ms/step - loss: 0.0788 - val_loss: 0.1152\n",
      "Epoch 54/100\n",
      "7/7 [==============================] - 0s 10ms/step - loss: 0.0815 - val_loss: 0.1202\n",
      "Epoch 55/100\n",
      "7/7 [==============================] - 0s 11ms/step - loss: 0.0829 - val_loss: 0.1252\n",
      "Epoch 56/100\n",
      "7/7 [==============================] - 0s 12ms/step - loss: 0.0820 - val_loss: 0.1263\n",
      "Epoch 57/100\n",
      "7/7 [==============================] - 0s 12ms/step - loss: 0.0769 - val_loss: 0.1142\n",
      "Epoch 58/100\n",
      "7/7 [==============================] - 0s 10ms/step - loss: 0.0788 - val_loss: 0.0974\n",
      "Epoch 59/100\n",
      "7/7 [==============================] - 0s 14ms/step - loss: 0.0753 - val_loss: 0.0950\n",
      "Epoch 60/100\n",
      "7/7 [==============================] - 0s 12ms/step - loss: 0.0843 - val_loss: 0.0992\n",
      "Epoch 61/100\n",
      "7/7 [==============================] - 0s 12ms/step - loss: 0.0812 - val_loss: 0.1016\n",
      "Epoch 62/100\n",
      "7/7 [==============================] - 0s 14ms/step - loss: 0.0795 - val_loss: 0.0931\n",
      "Epoch 63/100\n",
      "7/7 [==============================] - 0s 11ms/step - loss: 0.0777 - val_loss: 0.0900\n",
      "Epoch 64/100\n",
      "7/7 [==============================] - 0s 10ms/step - loss: 0.0804 - val_loss: 0.0842\n",
      "Epoch 65/100\n",
      "7/7 [==============================] - 0s 12ms/step - loss: 0.0786 - val_loss: 0.0869\n",
      "Epoch 66/100\n",
      "7/7 [==============================] - 0s 10ms/step - loss: 0.0732 - val_loss: 0.0974\n",
      "Epoch 67/100\n",
      "7/7 [==============================] - 0s 11ms/step - loss: 0.0767 - val_loss: 0.1055\n",
      "Epoch 68/100\n",
      "7/7 [==============================] - 0s 11ms/step - loss: 0.0789 - val_loss: 0.1063\n",
      "Epoch 69/100\n",
      "7/7 [==============================] - 0s 11ms/step - loss: 0.0755 - val_loss: 0.1035\n",
      "Epoch 70/100\n",
      "7/7 [==============================] - 0s 11ms/step - loss: 0.0753 - val_loss: 0.0929\n",
      "Epoch 71/100\n",
      "7/7 [==============================] - 0s 14ms/step - loss: 0.0793 - val_loss: 0.0918\n",
      "Epoch 72/100\n",
      "7/7 [==============================] - 0s 17ms/step - loss: 0.0779 - val_loss: 0.0951\n",
      "Epoch 73/100\n",
      "7/7 [==============================] - 0s 12ms/step - loss: 0.0752 - val_loss: 0.0918\n",
      "Epoch 74/100\n",
      "7/7 [==============================] - 0s 11ms/step - loss: 0.0769 - val_loss: 0.0916\n",
      "Epoch 75/100\n",
      "7/7 [==============================] - 0s 11ms/step - loss: 0.0770 - val_loss: 0.0861\n",
      "Epoch 76/100\n",
      "7/7 [==============================] - 0s 12ms/step - loss: 0.0758 - val_loss: 0.0864\n",
      "Epoch 77/100\n",
      "7/7 [==============================] - 0s 10ms/step - loss: 0.0782 - val_loss: 0.0825\n",
      "Epoch 78/100\n",
      "7/7 [==============================] - 0s 11ms/step - loss: 0.0730 - val_loss: 0.0837\n",
      "Epoch 79/100\n",
      "7/7 [==============================] - 0s 12ms/step - loss: 0.0760 - val_loss: 0.0815\n",
      "Epoch 80/100\n",
      "7/7 [==============================] - 0s 10ms/step - loss: 0.0782 - val_loss: 0.0839\n",
      "Epoch 81/100\n",
      "7/7 [==============================] - 0s 11ms/step - loss: 0.0752 - val_loss: 0.0838\n",
      "Epoch 82/100\n",
      "7/7 [==============================] - 0s 10ms/step - loss: 0.0755 - val_loss: 0.0882\n",
      "Epoch 83/100\n",
      "7/7 [==============================] - 0s 11ms/step - loss: 0.0785 - val_loss: 0.0860\n"
     ]
    },
    {
     "name": "stdout",
     "output_type": "stream",
     "text": [
      "Epoch 84/100\n",
      "7/7 [==============================] - 0s 12ms/step - loss: 0.0773 - val_loss: 0.0848\n",
      "Epoch 85/100\n",
      "7/7 [==============================] - 0s 12ms/step - loss: 0.0756 - val_loss: 0.0782\n",
      "Epoch 86/100\n",
      "7/7 [==============================] - 0s 17ms/step - loss: 0.0805 - val_loss: 0.0739\n",
      "Epoch 87/100\n",
      "7/7 [==============================] - 0s 12ms/step - loss: 0.0775 - val_loss: 0.0767\n",
      "Epoch 88/100\n",
      "7/7 [==============================] - 0s 10ms/step - loss: 0.0806 - val_loss: 0.0777\n",
      "Epoch 89/100\n",
      "7/7 [==============================] - 0s 11ms/step - loss: 0.0757 - val_loss: 0.0804\n",
      "Epoch 90/100\n",
      "7/7 [==============================] - 0s 12ms/step - loss: 0.0781 - val_loss: 0.0781\n",
      "Epoch 91/100\n",
      "7/7 [==============================] - 0s 11ms/step - loss: 0.0797 - val_loss: 0.0798\n",
      "Epoch 92/100\n",
      "7/7 [==============================] - 0s 12ms/step - loss: 0.0810 - val_loss: 0.0890\n",
      "Epoch 93/100\n",
      "7/7 [==============================] - 0s 13ms/step - loss: 0.0772 - val_loss: 0.0975\n",
      "Epoch 94/100\n",
      "7/7 [==============================] - 0s 11ms/step - loss: 0.0723 - val_loss: 0.1014\n",
      "Epoch 95/100\n",
      "7/7 [==============================] - 0s 10ms/step - loss: 0.0798 - val_loss: 0.1028\n",
      "Epoch 96/100\n",
      "7/7 [==============================] - 0s 11ms/step - loss: 0.0711 - val_loss: 0.1019\n",
      "Epoch 97/100\n",
      "7/7 [==============================] - 0s 12ms/step - loss: 0.0762 - val_loss: 0.0907\n",
      "Epoch 98/100\n",
      "7/7 [==============================] - 0s 12ms/step - loss: 0.0739 - val_loss: 0.0810\n",
      "Epoch 99/100\n",
      "7/7 [==============================] - 0s 13ms/step - loss: 0.0764 - val_loss: 0.0809\n",
      "Epoch 100/100\n",
      "7/7 [==============================] - 0s 12ms/step - loss: 0.0753 - val_loss: 0.0849\n"
     ]
    }
   ],
   "source": [
    "# design network\n",
    "model = keras.Sequential()\n",
    "model.add(LSTM(100, input_shape=(train_X.shape[1], train_X.shape[2])))\n",
    "model.add(Dropout(0.5))\n",
    "model.add(Dense(1))\n",
    "model.compile(loss='mae', optimizer='adam')\n",
    "# fit network\n",
    "history = model.fit(train_X, train_y, epochs=100, batch_size=25, shuffle=False, validation_data=(test_X, test_y))"
   ]
  },
  {
   "cell_type": "code",
   "execution_count": 3512,
   "metadata": {},
   "outputs": [
    {
     "data": {
      "image/png": "[encoded data removed]",
      "text/plain": [
       "<Figure size 432x288 with 1 Axes>"
      ]
     },
     "metadata": {
      "needs_background": "light"
     },
     "output_type": "display_data"
    }
   ],
   "source": [
    "# plot history\n",
    "pyplot.plot(history.history['loss'], label='train')\n",
    "pyplot.plot(history.history['val_loss'], label='test')\n",
    "pyplot.legend()\n",
    "\n",
    "pyplot.show()"
   ]
  },
  {
   "cell_type": "code",
   "execution_count": 3513,
   "metadata": {},
   "outputs": [],
   "source": [
    "from numpy import concatenate\n",
    "\n",
    "# make a prediction\n",
    "yhat = model.predict(test_X)"
   ]
  },
  {
   "cell_type": "code",
   "execution_count": 3514,
   "metadata": {},
   "outputs": [
    {
     "data": {
      "text/plain": [
       "<matplotlib.legend.Legend at 0x21a05257940>"
      ]
     },
     "execution_count": 3514,
     "metadata": {},
     "output_type": "execute_result"
    },
    {
     "data": {
      "image/png": "[encoded data removed]",
      "text/plain": [
       "<Figure size 432x288 with 1 Axes>"
      ]
     },
     "metadata": {
      "needs_background": "light"
     },
     "output_type": "display_data"
    }
   ],
   "source": [
    "pyplot.plot(test_y, label='Ground Truth')\n",
    "pyplot.plot(yhat, label='Predicted')\n",
    "\n",
    "pyplot.legend()"
   ]
  },
  {
   "cell_type": "code",
   "execution_count": 3515,
   "metadata": {},
   "outputs": [
    {
     "data": {
      "text/plain": [
       "0.7129816567676142"
      ]
     },
     "execution_count": 3515,
     "metadata": {},
     "output_type": "execute_result"
    }
   ],
   "source": [
    "r2_score(yhat, test_y)"
   ]
  },
  {
   "cell_type": "markdown",
   "metadata": {},
   "source": [
    "## Test on new data"
   ]
  },
  {
   "cell_type": "code",
   "execution_count": 3516,
   "metadata": {},
   "outputs": [],
   "source": [
    "test_data = pd.read_csv('../Data/EmotionMetrics/poms_scratch_2017-2018.csv', index_col=0,warn_bad_lines=True,error_bad_lines=False, parse_dates=['Date'], date_parser=date_parser)"
   ]
  },
  {
   "cell_type": "code",
   "execution_count": 3517,
   "metadata": {},
   "outputs": [
    {
     "data": {
      "text/html": [
       "<div>\n",
       "<style scoped>\n",
       "    .dataframe tbody tr th:only-of-type {\n",
       "        vertical-align: middle;\n",
       "    }\n",
       "\n",
       "    .dataframe tbody tr th {\n",
       "        vertical-align: top;\n",
       "    }\n",
       "\n",
       "    .dataframe thead th {\n",
       "        text-align: right;\n",
       "    }\n",
       "</style>\n",
       "<table border=\"1\" class=\"dataframe\">\n",
       "  <thead>\n",
       "    <tr style=\"text-align: right;\">\n",
       "      <th></th>\n",
       "      <th>Close(t)</th>\n",
       "      <th>Close(t+4)</th>\n",
       "    </tr>\n",
       "  </thead>\n",
       "  <tbody>\n",
       "    <tr>\n",
       "      <th>4</th>\n",
       "      <td>0.015504</td>\n",
       "      <td>0.031008</td>\n",
       "    </tr>\n",
       "    <tr>\n",
       "      <th>5</th>\n",
       "      <td>0.019380</td>\n",
       "      <td>0.027132</td>\n",
       "    </tr>\n",
       "    <tr>\n",
       "      <th>6</th>\n",
       "      <td>0.023256</td>\n",
       "      <td>0.038760</td>\n",
       "    </tr>\n",
       "    <tr>\n",
       "      <th>7</th>\n",
       "      <td>0.034884</td>\n",
       "      <td>0.042636</td>\n",
       "    </tr>\n",
       "    <tr>\n",
       "      <th>8</th>\n",
       "      <td>0.031008</td>\n",
       "      <td>0.046512</td>\n",
       "    </tr>\n",
       "  </tbody>\n",
       "</table>\n",
       "</div>"
      ],
      "text/plain": [
       "   Close(t)  Close(t+4)\n",
       "4  0.015504    0.031008\n",
       "5  0.019380    0.027132\n",
       "6  0.023256    0.038760\n",
       "7  0.034884    0.042636\n",
       "8  0.031008    0.046512"
      ]
     },
     "execution_count": 3517,
     "metadata": {},
     "output_type": "execute_result"
    }
   ],
   "source": [
    "test_df = test_data[COLUMNS]\n",
    "test_reframed = series_to_supervised(test_df, 'Close', input_days=INPUT_DAYS, lag_days=NUM_LAGS)\n",
    "reframed.head()"
   ]
  },
  {
   "cell_type": "code",
   "execution_count": 3500,
   "metadata": {},
   "outputs": [],
   "source": [
    "_, _, _test_X, _test_y = train_test_split(test_reframed,0)"
   ]
  },
  {
   "cell_type": "code",
   "execution_count": 3501,
   "metadata": {},
   "outputs": [],
   "source": [
    "_yhat = model.predict(_test_X)"
   ]
  },
  {
   "cell_type": "code",
   "execution_count": 3519,
   "metadata": {},
   "outputs": [
    {
     "data": {
      "text/plain": [
       "<matplotlib.legend.Legend at 0x21a122b9520>"
      ]
     },
     "execution_count": 3519,
     "metadata": {},
     "output_type": "execute_result"
    },
    {
     "data": {
      "image/png": "[encoded data removed]",
      "text/plain": [
       "<Figure size 432x288 with 1 Axes>"
      ]
     },
     "metadata": {
      "needs_background": "light"
     },
     "output_type": "display_data"
    }
   ],
   "source": [
    "pyplot.plot(_test_y, label='Ground Truth')\n",
    "pyplot.plot(_yhat, label='Predicted')\n",
    "pyplot.legend()"
   ]
  },
  {
   "cell_type": "code",
   "execution_count": 3503,
   "metadata": {},
   "outputs": [
    {
     "data": {
      "text/plain": [
       "0.8979491504372614"
      ]
     },
     "execution_count": 3503,
     "metadata": {},
     "output_type": "execute_result"
    }
   ],
   "source": [
    "r2_score(_yhat, _test_y)"
   ]
  },
  {
   "cell_type": "code",
   "execution_count": null,
   "metadata": {},
   "outputs": [],
   "source": []
  },
  {
   "cell_type": "code",
   "execution_count": null,
   "metadata": {},
   "outputs": [],
   "source": []
  },
  {
   "cell_type": "code",
   "execution_count": null,
   "metadata": {},
   "outputs": [],
   "source": []
  },
  {
   "cell_type": "code",
   "execution_count": null,
   "metadata": {},
   "outputs": [],
   "source": []
  }
 ],
 "metadata": {
  "kernelspec": {
   "display_name": "Python 3",
   "language": "python",
   "name": "python3"
  },
  "language_info": {
   "codemirror_mode": {
    "name": "ipython",
    "version": 3
   },
   "file_extension": ".py",
   "mimetype": "text/x-python",
   "name": "python",
   "nbconvert_exporter": "python",
   "pygments_lexer": "ipython3",
   "version": "3.8.5"
  }
 },
 "nbformat": 4,
 "nbformat_minor": 4
}
